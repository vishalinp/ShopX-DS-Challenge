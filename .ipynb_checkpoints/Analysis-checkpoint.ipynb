{
 "cells": [
  {
   "cell_type": "markdown",
   "id": "f1f09869",
   "metadata": {},
   "source": [
    "# Shop Segmentation"
   ]
  },
  {
   "cell_type": "code",
   "execution_count": 68,
   "id": "9c1f410c",
   "metadata": {},
   "outputs": [],
   "source": [
    "import numpy\n",
    "import pandas as pd\n",
    "from datetime import datetime\n",
    "import dateutil\n",
    "#import fbprophet as fb"
   ]
  },
  {
   "cell_type": "markdown",
   "id": "9a67a01c",
   "metadata": {},
   "source": [
    "### Read and Clean"
   ]
  },
  {
   "cell_type": "code",
   "execution_count": 4,
   "id": "a06b615c",
   "metadata": {},
   "outputs": [],
   "source": [
    "#Read data\n",
    "\n",
    "sales = pd.read_csv('historic_sales_data.csv')\n",
    "items = pd.read_csv('items.csv')"
   ]
  },
  {
   "cell_type": "code",
   "execution_count": 5,
   "id": "6068cda6",
   "metadata": {},
   "outputs": [],
   "source": [
    "#Join items to sales\n",
    "\n",
    "sales = pd.merge(sales, items, on='item_id', how='left')"
   ]
  },
  {
   "cell_type": "code",
   "execution_count": 15,
   "id": "fd3e00d9",
   "metadata": {},
   "outputs": [
    {
     "data": {
      "text/html": [
       "<div>\n",
       "<style scoped>\n",
       "    .dataframe tbody tr th:only-of-type {\n",
       "        vertical-align: middle;\n",
       "    }\n",
       "\n",
       "    .dataframe tbody tr th {\n",
       "        vertical-align: top;\n",
       "    }\n",
       "\n",
       "    .dataframe thead th {\n",
       "        text-align: right;\n",
       "    }\n",
       "</style>\n",
       "<table border=\"1\" class=\"dataframe\">\n",
       "  <thead>\n",
       "    <tr style=\"text-align: right;\">\n",
       "      <th></th>\n",
       "      <th>day</th>\n",
       "      <th>month</th>\n",
       "      <th>year</th>\n",
       "      <th>shop_id</th>\n",
       "      <th>item_id</th>\n",
       "      <th>item_price</th>\n",
       "      <th>item_cnt_day</th>\n",
       "      <th>item_category_id</th>\n",
       "      <th>date_key</th>\n",
       "      <th>date</th>\n",
       "      <th>date_month</th>\n",
       "    </tr>\n",
       "  </thead>\n",
       "  <tbody>\n",
       "    <tr>\n",
       "      <th>0</th>\n",
       "      <td>22</td>\n",
       "      <td>11</td>\n",
       "      <td>2018</td>\n",
       "      <td>52</td>\n",
       "      <td>1003734</td>\n",
       "      <td>1300</td>\n",
       "      <td>1</td>\n",
       "      <td>46</td>\n",
       "      <td>20181122</td>\n",
       "      <td>2018-11-22</td>\n",
       "      <td>2018-11-01</td>\n",
       "    </tr>\n",
       "    <tr>\n",
       "      <th>1</th>\n",
       "      <td>24</td>\n",
       "      <td>11</td>\n",
       "      <td>2018</td>\n",
       "      <td>52</td>\n",
       "      <td>1003734</td>\n",
       "      <td>1300</td>\n",
       "      <td>1</td>\n",
       "      <td>46</td>\n",
       "      <td>20181124</td>\n",
       "      <td>2018-11-24</td>\n",
       "      <td>2018-11-01</td>\n",
       "    </tr>\n",
       "    <tr>\n",
       "      <th>2</th>\n",
       "      <td>28</td>\n",
       "      <td>11</td>\n",
       "      <td>2018</td>\n",
       "      <td>52</td>\n",
       "      <td>1003734</td>\n",
       "      <td>1300</td>\n",
       "      <td>1</td>\n",
       "      <td>46</td>\n",
       "      <td>20181128</td>\n",
       "      <td>2018-11-28</td>\n",
       "      <td>2018-11-01</td>\n",
       "    </tr>\n",
       "    <tr>\n",
       "      <th>3</th>\n",
       "      <td>1</td>\n",
       "      <td>11</td>\n",
       "      <td>2018</td>\n",
       "      <td>52</td>\n",
       "      <td>1003743</td>\n",
       "      <td>400</td>\n",
       "      <td>1</td>\n",
       "      <td>42</td>\n",
       "      <td>20181101</td>\n",
       "      <td>2018-11-01</td>\n",
       "      <td>2018-11-01</td>\n",
       "    </tr>\n",
       "    <tr>\n",
       "      <th>4</th>\n",
       "      <td>20</td>\n",
       "      <td>11</td>\n",
       "      <td>2018</td>\n",
       "      <td>52</td>\n",
       "      <td>1003743</td>\n",
       "      <td>400</td>\n",
       "      <td>1</td>\n",
       "      <td>42</td>\n",
       "      <td>20181120</td>\n",
       "      <td>2018-11-20</td>\n",
       "      <td>2018-11-01</td>\n",
       "    </tr>\n",
       "    <tr>\n",
       "      <th>...</th>\n",
       "      <td>...</td>\n",
       "      <td>...</td>\n",
       "      <td>...</td>\n",
       "      <td>...</td>\n",
       "      <td>...</td>\n",
       "      <td>...</td>\n",
       "      <td>...</td>\n",
       "      <td>...</td>\n",
       "      <td>...</td>\n",
       "      <td>...</td>\n",
       "      <td>...</td>\n",
       "    </tr>\n",
       "    <tr>\n",
       "      <th>2664547</th>\n",
       "      <td>24</td>\n",
       "      <td>10</td>\n",
       "      <td>2018</td>\n",
       "      <td>118</td>\n",
       "      <td>1021620</td>\n",
       "      <td>200</td>\n",
       "      <td>3</td>\n",
       "      <td>80</td>\n",
       "      <td>20181024</td>\n",
       "      <td>2018-10-24</td>\n",
       "      <td>2018-10-01</td>\n",
       "    </tr>\n",
       "    <tr>\n",
       "      <th>2664548</th>\n",
       "      <td>31</td>\n",
       "      <td>10</td>\n",
       "      <td>2018</td>\n",
       "      <td>118</td>\n",
       "      <td>1021623</td>\n",
       "      <td>550</td>\n",
       "      <td>1</td>\n",
       "      <td>76</td>\n",
       "      <td>20181031</td>\n",
       "      <td>2018-10-31</td>\n",
       "      <td>2018-10-01</td>\n",
       "    </tr>\n",
       "    <tr>\n",
       "      <th>2664549</th>\n",
       "      <td>24</td>\n",
       "      <td>10</td>\n",
       "      <td>2018</td>\n",
       "      <td>118</td>\n",
       "      <td>1021624</td>\n",
       "      <td>500</td>\n",
       "      <td>1</td>\n",
       "      <td>74</td>\n",
       "      <td>20181024</td>\n",
       "      <td>2018-10-24</td>\n",
       "      <td>2018-10-01</td>\n",
       "    </tr>\n",
       "    <tr>\n",
       "      <th>2664550</th>\n",
       "      <td>25</td>\n",
       "      <td>10</td>\n",
       "      <td>2018</td>\n",
       "      <td>118</td>\n",
       "      <td>1021624</td>\n",
       "      <td>500</td>\n",
       "      <td>1</td>\n",
       "      <td>74</td>\n",
       "      <td>20181025</td>\n",
       "      <td>2018-10-25</td>\n",
       "      <td>2018-10-01</td>\n",
       "    </tr>\n",
       "    <tr>\n",
       "      <th>2664551</th>\n",
       "      <td>12</td>\n",
       "      <td>10</td>\n",
       "      <td>2018</td>\n",
       "      <td>118</td>\n",
       "      <td>1021487</td>\n",
       "      <td>475</td>\n",
       "      <td>1</td>\n",
       "      <td>124</td>\n",
       "      <td>20181012</td>\n",
       "      <td>2018-10-12</td>\n",
       "      <td>2018-10-01</td>\n",
       "    </tr>\n",
       "  </tbody>\n",
       "</table>\n",
       "<p>2664552 rows × 11 columns</p>\n",
       "</div>"
      ],
      "text/plain": [
       "         day  month  year  shop_id  item_id  item_price  item_cnt_day  \\\n",
       "0         22     11  2018       52  1003734        1300             1   \n",
       "1         24     11  2018       52  1003734        1300             1   \n",
       "2         28     11  2018       52  1003734        1300             1   \n",
       "3          1     11  2018       52  1003743         400             1   \n",
       "4         20     11  2018       52  1003743         400             1   \n",
       "...      ...    ...   ...      ...      ...         ...           ...   \n",
       "2664547   24     10  2018      118  1021620         200             3   \n",
       "2664548   31     10  2018      118  1021623         550             1   \n",
       "2664549   24     10  2018      118  1021624         500             1   \n",
       "2664550   25     10  2018      118  1021624         500             1   \n",
       "2664551   12     10  2018      118  1021487         475             1   \n",
       "\n",
       "         item_category_id  date_key       date date_month  \n",
       "0                      46  20181122 2018-11-22 2018-11-01  \n",
       "1                      46  20181124 2018-11-24 2018-11-01  \n",
       "2                      46  20181128 2018-11-28 2018-11-01  \n",
       "3                      42  20181101 2018-11-01 2018-11-01  \n",
       "4                      42  20181120 2018-11-20 2018-11-01  \n",
       "...                   ...       ...        ...        ...  \n",
       "2664547                80  20181024 2018-10-24 2018-10-01  \n",
       "2664548                76  20181031 2018-10-31 2018-10-01  \n",
       "2664549                74  20181024 2018-10-24 2018-10-01  \n",
       "2664550                74  20181025 2018-10-25 2018-10-01  \n",
       "2664551               124  20181012 2018-10-12 2018-10-01  \n",
       "\n",
       "[2664552 rows x 11 columns]"
      ]
     },
     "execution_count": 15,
     "metadata": {},
     "output_type": "execute_result"
    }
   ],
   "source": [
    "sales"
   ]
  },
  {
   "cell_type": "code",
   "execution_count": 7,
   "id": "b0ae31b0",
   "metadata": {},
   "outputs": [],
   "source": [
    "#dates\n",
    "sales['date_key'] = sales['year'].astype(str) + sales['month'].apply(lambda x: f'{x:02d}') + sales['day'].apply(lambda x: f'{x:02d}')\n",
    "sales['date'] = pd.to_datetime(sales['date_key'], format='%Y%m%d')\n",
    "\n",
    "sales['date_month'] = sales['date'].dt.to_period('M').dt.to_timestamp()\n",
    "\n",
    "#fix negative item counts\n",
    "sales['item_cnt_day'] = abs(sales['item_cnt_day'])"
   ]
  },
  {
   "cell_type": "markdown",
   "id": "646c4ab0",
   "metadata": {},
   "source": [
    "### Feature Engineering\n",
    "\n",
    "We will aim to engineer features around the following themes:\n",
    "\n",
    "* RFM - recency, frequency, monetary/volume\n",
    "* Average item price\n",
    "* Product and product category variety\n",
    "* Price sensitivity - discounts vs premiums\n",
    "* Sales trend in past 12 months"
   ]
  },
  {
   "cell_type": "code",
   "execution_count": 29,
   "id": "65b66ff9",
   "metadata": {},
   "outputs": [
    {
     "name": "stderr",
     "output_type": "stream",
     "text": [
      "C:\\Users\\vishalin1\\AppData\\Local\\Temp\\ipykernel_22364\\364900151.py:9: SettingWithCopyWarning: \n",
      "A value is trying to be set on a copy of a slice from a DataFrame.\n",
      "Try using .loc[row_indexer,col_indexer] = value instead\n",
      "\n",
      "See the caveats in the documentation: https://pandas.pydata.org/pandas-docs/stable/user_guide/indexing.html#returning-a-view-versus-a-copy\n",
      "  sales_12m['median_price'] = sales_12m.groupby(['item_id', 'date_month'])['item_price'].transform('median')\n",
      "C:\\Users\\vishalin1\\AppData\\Local\\Temp\\ipykernel_22364\\364900151.py:15: SettingWithCopyWarning: \n",
      "A value is trying to be set on a copy of a slice from a DataFrame.\n",
      "Try using .loc[row_indexer,col_indexer] = value instead\n",
      "\n",
      "See the caveats in the documentation: https://pandas.pydata.org/pandas-docs/stable/user_guide/indexing.html#returning-a-view-versus-a-copy\n",
      "  sales_12m['pricing'] = ''\n"
     ]
    }
   ],
   "source": [
    "#Calculate features for past 12 months (segmentation is more relevant)\n",
    "\n",
    "sales_12m = sales[sales['date_month'] >= pd.to_datetime('2019-06-01')]\n",
    "\n",
    "# Price Sensitivity\n",
    "sales_12m['median_price'] = sales_12m.groupby(['item_id', 'date_month'])['item_price'].transform('median')\n",
    "\n",
    "price_premium = sales_12m['item_price'] > sales_12m['median_price'] * 1.02\n",
    "price_normal = (sales_12m['item_price'] <= sales_12m['median_price'] * 1.02) & (sales_12m['item_price'] >= sales_12m['median_price'] * 0.98)\n",
    "price_discount = sales_12m['item_price'] < sales_12m['median_price'] * 0.98\n",
    "\n",
    "sales_12m['pricing'] = ''\n",
    "\n",
    "sales_12m.loc[price_premium, 'pricing'] = 'premium'\n",
    "sales_12m.loc[price_normal, 'pricing'] = 'normal'\n",
    "sales_12m.loc[price_discount, 'pricing'] = 'discount'\n",
    "\n",
    "# Item categories simple price segments\n",
    "item_prices = sales.groupby(['item_category_id', 'item_id']).agg(avg_price=('item_price', 'mean')).reset_index()\n",
    "\n",
    "avg_cat_prices = item_prices.groupby('item_category_id')['avg_price'].mean().reset_index(name='avg_cat_price')\n",
    "\n",
    "avg_cat_prices['category_price_class'] = pd.cut(\n",
    "    avg_cat_prices['avg_cat_price'],\n",
    "    bins=[-float('inf'), 1000, 4000, float('inf')],\n",
    "    labels=['normal', 'high', 'v.high']\n",
    ")\n",
    "\n",
    "avg_cat_prices = avg_cat_prices.reset_index(drop=True)\n",
    "\n",
    "sales_12m = pd.merge(sales_12m, avg_cat_prices, on='item_category_id')\n",
    "\n",
    "\n",
    "# Calculate monthly aggregate metrics\n",
    "sales_12m['revenue'] = sales_12m['item_cnt_day'] * sales_12m['item_price']\n",
    "\n",
    "grouped_sales = sales_12m.groupby(['shop_id', 'date_month'])\n",
    "\n",
    "shop_month_metrics = grouped_sales.agg(\n",
    "    max_date=('date', 'max'),\n",
    "    days_since_active=('date', lambda x: (pd.to_datetime('2020-05-31') - x.max()).days),\n",
    "    active_days=('date', 'nunique'),\n",
    "    volume_12m=('item_cnt_day', 'sum'),\n",
    "    revenue_12m=('revenue', 'sum'),\n",
    "    avg_item_price=('item_price', 'mean'),\n",
    "    discount_volume=('item_cnt_day', lambda x: x[sales_12m['pricing'] == 'discount'].sum() / x.sum()),\n",
    "    premium_volume=('item_cnt_day', lambda x: x[sales_12m['pricing'] == 'premium'].sum() / x.sum()),\n",
    "    unique_items=('item_id', 'nunique'),\n",
    "    unique_cat=('item_category_id', 'nunique'),\n",
    "    unique_items_vhigh=('item_id', lambda x: x[sales_12m['category_price_class'] == 'v.high'].nunique() - 1),\n",
    "    unique_items_high=('item_id', lambda x: x[sales_12m['category_price_class'] == 'high'].nunique() - 1),\n",
    "    unique_items_normal=('item_id', lambda x: x[sales_12m['category_price_class'] == 'normal'].nunique() - 1)\n",
    ").reset_index()\n",
    "\n",
    "\n",
    "# Calculate aggregated metrics per shop\n",
    "shop_summary = shop_month_metrics.groupby('shop_id').agg(\n",
    "    days_since_active=('days_since_active', 'min'),\n",
    "    m_active_months=('date_month', 'count'),\n",
    "    m_active_days=('active_days', 'mean'),\n",
    "    m_volume=('volume_12m', 'mean'),\n",
    "    m_revenue=('revenue_12m', 'mean'),\n",
    "    m_avg_item_price=('avg_item_price', 'mean'),\n",
    "    m_discount_volume=('discount_volume', 'mean'),\n",
    "    m_premium_volume=('premium_volume', 'mean'),\n",
    "    m_unique_items=('unique_items', 'mean'),\n",
    "    m_unique_cat=('unique_cat', 'mean'),\n",
    "    m_unique_items_vhigh=('unique_items_vhigh', 'mean'),\n",
    "    m_unique_items_high=('unique_items_high', 'mean'),\n",
    "    m_unique_items_normal=('unique_items_normal', 'mean')\n",
    ").reset_index()"
   ]
  },
  {
   "cell_type": "code",
   "execution_count": 45,
   "id": "1fac8298",
   "metadata": {},
   "outputs": [],
   "source": [
    "#Sales Volume Trend Per Shop\n",
    "\n",
    "from sklearn.linear_model import LinearRegression\n",
    "\n",
    "#List of shops\n",
    "shops = sales.groupby('shop_id').size().reset_index(name='count')\n",
    "\n",
    "# Create smooth_dates DataFrame\n",
    "smooth_dates = pd.DataFrame({'date_month': pd.date_range(start='2018-01-01', end='2020-05-01', freq='MS')})\n",
    "\n",
    "# Fitting a linear model for each shop sale trend\n",
    "shop_trend = pd.DataFrame(columns=['shop_id', 'trend'])\n",
    "\n",
    "for sid in shops['shop_id']:\n",
    "    lm_df = (\n",
    "        sales[(sales['date_month'] >= '2019-06-01') & (sales['shop_id'] == sid)]\n",
    "        .groupby('date_month')['item_cnt_day']\n",
    "        .sum()\n",
    "        .reset_index(name='sales_volume')\n",
    "    )\n",
    "\n",
    "    if lm_df['sales_volume'].count() < 2:\n",
    "        coef = 0\n",
    "    else:\n",
    "        lm_df['sales_volume'] = lm_df['sales_volume'] / lm_df['sales_volume'].mean()\n",
    "\n",
    "        lm_df['sales_volume'] = lm_df['sales_volume'].fillna(0)\n",
    "        \n",
    "        # Full join with smooth_dates\n",
    "        lm_df = pd.merge(smooth_dates, lm_df, how='outer', on='date_month').sort_values('date_month')\n",
    "\n",
    "        # Add a variable 'var' for regression\n",
    "        lm_df['var'] = range(1, len(lm_df) + 1)\n",
    "\n",
    "        lm_df = lm_df.dropna()\n",
    "        \n",
    "        # Fit linear model\n",
    "        linmod = LinearRegression().fit(lm_df[['var']], lm_df['sales_volume'])\n",
    "        coef = linmod.coef_[0]\n",
    "\n",
    "    # Append to shop_trend DataFrame\n",
    "    shop_trend = pd.concat([shop_trend, pd.DataFrame({'shop_id': [sid], 'trend': [coef]})])\n",
    "\n",
    "shop_trend = shop_trend.reset_index(drop=True)"
   ]
  },
  {
   "cell_type": "code",
   "execution_count": 56,
   "id": "537b08a1",
   "metadata": {},
   "outputs": [],
   "source": [
    "#Assemble all features for segmentation\n",
    "\n",
    "shop_summary = pd.merge(shop_summary, shop_trend, on='shop_id', how='left')\n",
    "\n",
    "\n",
    "#scale vars\n",
    "from sklearn.preprocessing import scale\n",
    "shops_clust = shop_summary.apply(scale)\n"
   ]
  },
  {
   "cell_type": "markdown",
   "id": "dc5301cc",
   "metadata": {},
   "source": [
    "### PCA: Dimensionality Reduction\n",
    "\n",
    "Principal component analysis will be used to reduce redundancy in features for modelling. This is especially important for clustering algorithms as we do not want to overrepresent any variable/measurement as this can over signify the importance of these variables in distance separation."
   ]
  },
  {
   "cell_type": "code",
   "execution_count": 64,
   "id": "e5cc282f",
   "metadata": {},
   "outputs": [],
   "source": [
    "import sklearn.preprocessing\n",
    "from sklearn.decomposition import PCA\n",
    "import matplotlib.pyplot as plt"
   ]
  },
  {
   "cell_type": "code",
   "execution_count": 71,
   "id": "4a8236a8",
   "metadata": {},
   "outputs": [
    {
     "data": {
      "image/png": "[encoded data removed]",
      "text/plain": [
       "<Figure size 432x288 with 1 Axes>"
      ]
     },
     "metadata": {
      "needs_background": "light"
     },
     "output_type": "display_data"
    }
   ],
   "source": [
    "# PCA\n",
    "pca = PCA()\n",
    "pca_result = pca.fit_transform(shops_clust)\n",
    "\n",
    "# Plot cumulative explained variance\n",
    "plt.plot(numpy.cumsum(pca.explained_variance_ratio_))\n",
    "plt.xlabel('Number of Principal Components')\n",
    "plt.ylabel('Cumulative Explained Variance')\n",
    "plt.show()\n",
    "\n",
    "# Visualize eigenvalues\n",
    "eigenvalues = pca.explained_variance_\n",
    "cumulative_eigenvalues = numpy.cumsum(eigenvalues) / sum(eigenvalues)\n"
   ]
  },
  {
   "cell_type": "code",
   "execution_count": 72,
   "id": "a6505800",
   "metadata": {},
   "outputs": [],
   "source": [
    "#First 6 components explain ~95% of variance\n",
    "\n",
    "#choose 6 components for clustering\n",
    "num_components = 6\n",
    "\n",
    "shops_12m_pcaclust = pd.DataFrame(pca_result[:, :num_components], columns=[f'PC{i}' for i in range(1, num_components + 1)])"
   ]
  },
  {
   "cell_type": "markdown",
   "id": "39c669a2",
   "metadata": {},
   "source": [
    "### Gaussian Mixture Model\n",
    "\n",
    "The first chosen model is a gaussian mixture model. This algorithm works well with clusters of different shapes, sizes, and complexity. We can also observe probabilities of cluster membership, which may be useful when a particular observation straddles more than one cluster (a hybrid)."
   ]
  },
  {
   "cell_type": "code",
   "execution_count": 74,
   "id": "cb5acceb",
   "metadata": {},
   "outputs": [],
   "source": [
    "from sklearn.mixture import GaussianMixture\n",
    "from sklearn.metrics import silhouette_score"
   ]
  },
  {
   "cell_type": "code",
   "execution_count": 82,
   "id": "10287401",
   "metadata": {},
   "outputs": [],
   "source": [
    "# We will try building 10 models each with an increasing number of components/clusters from 1 to 10\n",
    "n_components_range = range(2, 10)\n",
    "\n",
    "# Fit GMMs with different numbers of components\n",
    "bic_scores = []\n",
    "silhouette_scores = []\n",
    "for n_components in n_components_range:\n",
    "    gmm = GaussianMixture(n_components=n_components, random_state=12)\n",
    "    gmm.fit(shops_12m_pcaclust)\n",
    "    bic_scores.append(gmm.bic(shops_12m_pcaclust))\n",
    "    \n",
    "    labels = gmm.predict(shops_12m_pcaclust)\n",
    "    silhouette_avg = silhouette_score(shops_12m_pcaclust, labels)\n",
    "    silhouette_scores.append(silhouette_avg)\n",
    "\n"
   ]
  },
  {
   "cell_type": "code",
   "execution_count": 83,
   "id": "1cd9d175",
   "metadata": {},
   "outputs": [
    {
     "data": {
      "image/png": "[encoded data removed]",
      "text/plain": [
       "<Figure size 432x288 with 1 Axes>"
      ]
     },
     "metadata": {
      "needs_background": "light"
     },
     "output_type": "display_data"
    }
   ],
   "source": [
    "# Plot Bayesian Inference Criteria vs number of components\n",
    "plt.plot(n_components_range, bic_scores, marker='o')\n",
    "plt.title('BIC vs Number of Components')\n",
    "plt.xlabel('Number of Components')\n",
    "plt.ylabel('BIC Score')\n",
    "plt.show()"
   ]
  },
  {
   "cell_type": "code",
   "execution_count": 86,
   "id": "5aae8acb",
   "metadata": {},
   "outputs": [
    {
     "data": {
      "image/png": "[encoded data removed]",
      "text/plain": [
       "<Figure size 432x288 with 1 Axes>"
      ]
     },
     "metadata": {
      "needs_background": "light"
     },
     "output_type": "display_data"
    }
   ],
   "source": [
    "#Plot Silhoutte Score vs number of components\n",
    "plt.plot(n_components_range, silhouette_scores, marker='o')\n",
    "plt.title('Silhoutte Score vs Number of Components')\n",
    "plt.xlabel('Number of Components')\n",
    "plt.ylabel('Silhoutte Score')\n",
    "plt.show()"
   ]
  },
  {
   "cell_type": "code",
   "execution_count": 91,
   "id": "460041b1",
   "metadata": {},
   "outputs": [
    {
     "data": {
      "text/plain": [
       "GaussianMixture(n_components=7, random_state=12)"
      ]
     },
     "execution_count": 91,
     "metadata": {},
     "output_type": "execute_result"
    }
   ],
   "source": [
    "# 7 components appears to be the sweet spot for the BIC, this means that 7 clusters is a reasonable choice for balancing\n",
    "# complexity and variance\n",
    "# The silhoutte score decreases with an increasing number of clusters (generally expected as more complexity results in more \n",
    "# overlap), however there is a similar inflection point for 7 clusters, indicating some stability for this number.\n",
    "\n",
    "gmm_final = GaussianMixture(n_components=7, random_state=12)\n",
    "\n",
    "gmm_final.fit(shops_12m_pcaclust)\n"
   ]
  },
  {
   "cell_type": "code",
   "execution_count": 122,
   "id": "21bd3400",
   "metadata": {},
   "outputs": [
    {
     "data": {
      "image/png": "[encoded data removed]",
      "text/plain": [
       "<Figure size 432x288 with 2 Axes>"
      ]
     },
     "metadata": {
      "needs_background": "light"
     },
     "output_type": "display_data"
    }
   ],
   "source": [
    "# Visualize clusters across the top 2 principal components\n",
    "labels = gmm_final.predict(shops_12m_pcaclust)\n",
    "\n",
    "pca = PCA(n_components=2)\n",
    "projection = pca.fit_transform(shops_12m_pcaclust)\n",
    "\n",
    "plt.scatter(projection[:, 0], projection[:, 1], c=labels, cmap='viridis', alpha=0.7)\n",
    "plt.title('GMM Final Clusters')\n",
    "plt.xlabel('PC 1')\n",
    "plt.ylabel('PC 2')\n",
    "plt.colorbar(label='Cluster Label')\n",
    "plt.show()"
   ]
  },
  {
   "cell_type": "code",
   "execution_count": 96,
   "id": "f1f7e400",
   "metadata": {},
   "outputs": [],
   "source": [
    "# Reasonably good separation across just the first 2 PCs\n",
    "\n",
    "# Cluster aggregate statistics\n",
    "\n",
    "#shop_summary['cluster'] = labels\n",
    "\n",
    "cluster_summary = shop_summary.groupby('cluster').agg(['mean', 'median', 'min', 'max', 'count'])\n",
    "cluster_summary = cluster_summary.reset_index()"
   ]
  },
  {
   "cell_type": "code",
   "execution_count": 112,
   "id": "aab44c59",
   "metadata": {},
   "outputs": [
    {
     "name": "stdout",
     "output_type": "stream",
     "text": [
      "  cluster    shop_id                       days_since_active                   \\\n",
      "                mean median min  max count              mean median  min  max   \n",
      "0       0  40.857143   34.0   4   86     7         57.285714   37.0    0  134   \n",
      "1       1  75.428571   62.0  50  114     7          5.428571    0.0    0   38   \n",
      "2       2  29.000000   29.0  18   40     2        138.500000  138.5   39  238   \n",
      "3       3  26.000000   26.0  26   26     1        296.000000  296.0  296  296   \n",
      "4       4  65.875000   72.0   6  118    32          0.093750    0.0    0    3   \n",
      "5       5  95.000000   95.0  80  110     2         61.500000   61.5    0  123   \n",
      "6       6  48.000000   22.0  20  102     3         31.000000    0.0    0   93   \n",
      "\n",
      "   ... m_unique_items_normal                                               \\\n",
      "   ...                  mean       median          min          max count   \n",
      "0  ...            657.855159   640.125000   352.111111  1121.583333     7   \n",
      "1  ...           1804.514069  1583.250000  1376.250000  2567.583333     7   \n",
      "2  ...            334.250000   334.250000   261.500000   407.000000     2   \n",
      "3  ...            379.000000   379.000000   379.000000   379.000000     1   \n",
      "4  ...            674.514915   665.666667   215.727273  1127.666667    32   \n",
      "5  ...            322.958333   322.958333   204.750000   441.166667     2   \n",
      "6  ...            440.689394   349.818182   316.000000   656.250000     3   \n",
      "\n",
      "      trend                                      \n",
      "       mean    median       min       max count  \n",
      "0  0.013338 -0.004886 -0.029512  0.067510     7  \n",
      "1 -0.013099 -0.007896 -0.051956  0.020486     7  \n",
      "2 -0.166613 -0.166613 -0.333225  0.000000     2  \n",
      "3 -0.525535 -0.525535 -0.525535 -0.525535     1  \n",
      "4 -0.015282 -0.017406 -0.057200  0.058580    32  \n",
      "5  0.084479  0.084479  0.049498  0.119461     2  \n",
      "6 -0.026760 -0.009054 -0.071227  0.000000     3  \n",
      "\n",
      "[7 rows x 76 columns]\n"
     ]
    }
   ],
   "source": [
    "# View cluster summary statistics\n",
    "print(cluster_summary)"
   ]
  },
  {
   "cell_type": "markdown",
   "id": "952791df",
   "metadata": {},
   "source": [
    "### Clusters and high level attributes\n",
    "\n",
    "(More detailed cluster analysis in presentation of results)\n",
    "\n",
    "\n",
    "| Cluster | Count | Descr                                                                 |\n",
    "| :------ | :---- | :-------------------------------------------------------------------- |\n",
    "| 0 | 7 | Not active in last month, however usually active for most days in a month. Medium sales vol, high avg price. Medium discounting/promotions. Medium variety of products. Sales trending slightly up.\n",
    "| 1 | 7 | Continuously, highly active. Highest sales volume, mid-high avg price. Medium discounting/promotions. Very high variety of products. Sales trending slightly down.\n",
    "| 2 | 2 | Not active for long period ~1-6 months, spikes of activity per year. High sales volume, very high avg price. High discounting/promotions. Low variety of products. Sales trending down.\n",
    "| 3 | 1 | Single shop, not active in last ~300 days. Low sales volume, very low avg price. Almost entirely discounted (could this be wholesaler/distributor? or low income targetting). Low variety of products. \n",
    "| 4 | 32 | Continuously, highly active. Medium sales vol, high avg price. Medium discounting/promotions. High variety of products. Sales trending slightly down. \n",
    "| 5 | 2 | Not active in last 2 months, however usually active for most days/months. Medium sales volume, medium avg price. Low discounting/promotions. Low variety of products. Sales trending up.\n",
    "| 6 | 3 | Continuously, highly active, misses some months. Low sales volume, low avg price. Almost entirely discounted (potential wholesaler/distributor or low income targetting). Low variety of products. Sales trending down."
   ]
  },
  {
   "cell_type": "markdown",
   "id": "0eaa55df",
   "metadata": {},
   "source": [
    "### DBSCAN (Alternative Approach)"
   ]
  },
  {
   "cell_type": "code",
   "execution_count": 114,
   "id": "e44ed5b9",
   "metadata": {},
   "outputs": [],
   "source": [
    "from sklearn.cluster import DBSCAN\n",
    "from sklearn.metrics import adjusted_rand_score\n",
    "from sklearn.neighbors import NearestNeighbors"
   ]
  },
  {
   "cell_type": "code",
   "execution_count": 121,
   "id": "c7ef6db9",
   "metadata": {},
   "outputs": [
    {
     "data": {
      "image/png": "[encoded data removed]",
      "text/plain": [
       "<Figure size 432x288 with 1 Axes>"
      ]
     },
     "metadata": {
      "needs_background": "light"
     },
     "output_type": "display_data"
    }
   ],
   "source": [
    "# Exploring neighbour distances to inform choice of epsilon\n",
    "\n",
    "# Choose min sample parameter in dbscan alg as '2' (min required points to consider region dense) \n",
    "min_samples_value = 2\n",
    "\n",
    "neighbors = NearestNeighbors(n_neighbors=min_samples_value)\n",
    "distances, _ = neighbors.fit(shops_12m_pcaclust).kneighbors()\n",
    "\n",
    "# Sort distances and plot\n",
    "sorted_distances = numpy.sort(distances[:, -1])\n",
    "plt.plot(sorted_distances)\n",
    "plt.xlabel('Observations')\n",
    "plt.ylabel('Distance')\n",
    "plt.title('Distance Plot')\n",
    "plt.show()"
   ]
  },
  {
   "cell_type": "code",
   "execution_count": 123,
   "id": "63b50c62",
   "metadata": {},
   "outputs": [
    {
     "name": "stdout",
     "output_type": "stream",
     "text": [
      "Silhouette Score: 0.4219103542997588\n"
     ]
    }
   ],
   "source": [
    "# Distance of 2 seems to be where there is a steep pick up in distance - we will choose this for epsilon\n",
    "\n",
    "eps_value = 2\n",
    "dbs_mod = DBSCAN(eps=eps_value, min_samples=min_samples_value)\n",
    "labels = dbs_mod.fit_predict(shops_12m_pcaclust)\n",
    "\n",
    "# Evaluate the model\n",
    "silhouette_avg = silhouette_score(shops_12m_pcaclust, labels)\n",
    "print(f\"Silhouette Score: {silhouette_avg}\")\n",
    "\n"
   ]
  },
  {
   "cell_type": "code",
   "execution_count": 124,
   "id": "cf324eb0",
   "metadata": {},
   "outputs": [
    {
     "data": {
      "image/png": "[encoded data removed]",
      "text/plain": [
       "<Figure size 432x288 with 2 Axes>"
      ]
     },
     "metadata": {
      "needs_background": "light"
     },
     "output_type": "display_data"
    }
   ],
   "source": [
    "# Visualize clusters across the top 2 principal components\n",
    "projection = pca.fit_transform(shops_12m_pcaclust)\n",
    "\n",
    "plt.scatter(projection[:, 0], projection[:, 1], c=labels, cmap='viridis', alpha=0.7)\n",
    "plt.title('DBSCAN Clusters')\n",
    "plt.xlabel('PC 1')\n",
    "plt.ylabel('PC 2')\n",
    "plt.colorbar(label='Cluster Label')\n",
    "plt.show()"
   ]
  },
  {
   "cell_type": "markdown",
   "id": "31f29d38",
   "metadata": {},
   "source": [
    "DBSCAN has produced statistically better results from its clustering:\n",
    "\n",
    "* A Silhoutte Score of ~42%\n",
    "* Cleaner cluster boundaries across the first 2 PCs\n",
    "\n",
    "However as with all segmentation approaches, the importance is the explainability of clusters in the real world and within the context of the business domain. In this case we have a higher silhouette score, but fewer clusters. It is up to business users and the data scientist to determine whether the gaps in the clusters are meaningful or not, and whether more separation (complexity) is necessary."
   ]
  },
  {
   "cell_type": "code",
   "execution_count": null,
   "id": "3bff7b4e",
   "metadata": {},
   "outputs": [],
   "source": []
  }
 ],
 "metadata": {
  "kernelspec": {
   "display_name": "Python 3 (ipykernel)",
   "language": "python",
   "name": "python3"
  },
  "language_info": {
   "codemirror_mode": {
    "name": "ipython",
    "version": 3
   },
   "file_extension": ".py",
   "mimetype": "text/x-python",
   "name": "python",
   "nbconvert_exporter": "python",
   "pygments_lexer": "ipython3",
   "version": "3.9.12"
  }
 },
 "nbformat": 4,
 "nbformat_minor": 5
}
