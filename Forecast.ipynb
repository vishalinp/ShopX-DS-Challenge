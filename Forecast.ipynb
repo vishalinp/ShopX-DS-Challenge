{
 "cells": [
  {
   "cell_type": "markdown",
   "id": "d67457a8",
   "metadata": {},
   "source": [
    "## Forecasting Sales"
   ]
  },
  {
   "cell_type": "code",
   "execution_count": 2,
   "id": "12791b96",
   "metadata": {},
   "outputs": [],
   "source": [
    "import numpy\n",
    "import pandas as pd\n",
    "from datetime import datetime\n",
    "import dateutil"
   ]
  },
  {
   "cell_type": "markdown",
   "id": "87821729",
   "metadata": {},
   "source": [
    "### Read and Clean"
   ]
  },
  {
   "cell_type": "code",
   "execution_count": 5,
   "id": "9659fc41",
   "metadata": {},
   "outputs": [],
   "source": [
    "#Read data\n",
    "\n",
    "sales = pd.read_csv('historic_sales_data.csv')"
   ]
  },
  {
   "cell_type": "code",
   "execution_count": null,
   "id": "f7f8185d",
   "metadata": {},
   "outputs": [],
   "source": [
    "sales"
   ]
  },
  {
   "cell_type": "code",
   "execution_count": 6,
   "id": "0de3c2a7",
   "metadata": {},
   "outputs": [],
   "source": [
    "#dates\n",
    "sales['date_key'] = sales['year'].astype(str) + sales['month'].apply(lambda x: f'{x:02d}') + sales['day'].apply(lambda x: f'{x:02d}')\n",
    "sales['date'] = pd.to_datetime(sales['date_key'], format='%Y%m%d')\n",
    "\n",
    "sales['date_month'] = sales['date'].dt.to_period('M').dt.to_timestamp()\n",
    "\n",
    "#fix negative item counts\n",
    "sales['item_cnt_day'] = abs(sales['item_cnt_day'])"
   ]
  },
  {
   "cell_type": "markdown",
   "id": "e63d3917",
   "metadata": {},
   "source": [
    "### Forecast\n",
    "\n",
    "We will use the Prophet library from Facebook to forecast sales. The reason for this is due to the flexibility of the model. The shop-item sales data contains thousands of series, each with varying behaviour and with many series exhibiting sparse and very sparse data. The approach I have chosen is one which does not require much fine tuning per model and series, ie. is adaptible to many different trends, as well as deals well with sparse data. This should cover a large majority of the dataset. For the remaining high degree of series with extremely sparse data (less than 50% monthly observations in the past 12 months), we will simply take the average of prior June observations.\n",
    "\n",
    "(Data exploration and experimentation for suitability of prophet on different series within the data was done in R)"
   ]
  },
  {
   "cell_type": "code",
   "execution_count": 8,
   "id": "9625bc69",
   "metadata": {},
   "outputs": [],
   "source": [
    "#from fbprophet import Prophet\n",
    "from sklearn.preprocessing import PowerTransformer"
   ]
  },
  {
   "cell_type": "code",
   "execution_count": null,
   "id": "761abe52",
   "metadata": {},
   "outputs": [],
   "source": [
    "# Generate shop-item combinations\n",
    "shop_item = sales.groupby(['shop_id', 'item_id']).agg(volume=('date_month', 'nunique')).reset_index()\n",
    "shop_item = shop_item.sort_values(by='volume', ascending=False)\n",
    "\n",
    "# Create an output DataFrame to append results to\n",
    "june_forecast = pd.DataFrame(columns=['shop_id', 'item_id', 'predicted', 'pred_upper', 'pred_lower'])"
   ]
  },
  {
   "cell_type": "code",
   "execution_count": null,
   "id": "53d2a7f4",
   "metadata": {},
   "outputs": [],
   "source": [
    "# Iterate through shop-item combinations and forecast for each\n",
    "for i in range(len(shop_item)):\n",
    "    sid = shop_item['shop_id'].iloc[i]\n",
    "    itm = shop_item['item_id'].iloc[i]\n",
    "\n",
    "    series = sales[(sales['item_id'] == itm) & (sales['shop_id'] == sid)].groupby('date_month').agg(y=('item_cnt_day', 'sum')).reset_index()\n",
    "    series = series.sort_values(by='date_month')\n",
    "\n",
    "    # Create smooth dates\n",
    "    df = pd.DataFrame({'ds': pd.date_range('2018-01-01', '2020-05-01', freq='MS')})\n",
    "\n",
    "    df = df.merge(series, left_on='ds', right_on='date_month', how='left').fillna(0)\n",
    "\n",
    "    # Check if we have more than 50% observations in the last 12 months\n",
    "    obs_12m = series[series['date_month'] > '2019-05-31'].shape[0]\n",
    "\n",
    "    # Use prophet if we have enough observations\n",
    "    if obs_12m >= 6:\n",
    "        # apply box-cox transform (add 1 to data to ensure no 0 values - we will reverse this)\n",
    "        power_transformer = PowerTransformer(method='box-cox', standardize=False)\n",
    "        df['y'] = power_transformer.fit_transform(df[['y']] + 1)\n",
    "\n",
    "        # fit prophet model\n",
    "        m_p = Prophet()\n",
    "        m_p.fit(df)\n",
    "\n",
    "        #forecast\n",
    "        future = m_p.make_future_dataframe(periods=1, freq='MS')\n",
    "        forecast = m_p.predict(future)\n",
    "\n",
    "        # inverse transform forecast values and subtract 1\n",
    "        orig_forecast = forecast.copy()\n",
    "        \n",
    "        orig_forecast['yhat'] = power_transformer.inverse_transform(orig_forecast['yhat']) - 1\n",
    "        orig_forecast['yhat_upper'] = power_transformer.inverse_transform(orig_forecast['yhat']) - 1\n",
    "        orig_forecast['yhat_lower'] = power_transformer.inverse_transform(orig_forecast['yhat']) - 1\n",
    "        \n",
    "        pred = pd.DataFrame({\n",
    "            'shop_id': sid,\n",
    "            'item_id': itm,\n",
    "            'predicted': orig_forecast['yhat'].iloc[-1],\n",
    "            'pred_upper': orig_forecast['yhat_upper'].iloc[-1],\n",
    "            'pred_lower': orig_forecast['yhat_lower'].iloc[-1]\n",
    "        })\n",
    "\n",
    "    # Take the average of June observations if data is very sparse\n",
    "    else:\n",
    "        june_obs = series[series['date_month'].dt.month == 6]\n",
    "        june_pred = june_obs['y'].mean() if not june_obs.empty else 0\n",
    "\n",
    "        pred = pd.DataFrame({\n",
    "            'shop_id': sid,\n",
    "            'item_id': itm,\n",
    "            'predicted': june_pred,\n",
    "            'pred_upper': june_pred,\n",
    "            'pred_lower': june_pred\n",
    "        })\n",
    "\n",
    "    june_forecast = june_forecast.append(pred, ignore_index=True)"
   ]
  },
  {
   "cell_type": "code",
   "execution_count": 40,
   "id": "c7939860",
   "metadata": {},
   "outputs": [],
   "source": [
    "#Write results to csv\n",
    "june_forecast.to_csv('Output/june_forecast.csv', index=False)"
   ]
  }
 ],
 "metadata": {
  "kernelspec": {
   "display_name": "Python 3 (ipykernel)",
   "language": "python",
   "name": "python3"
  },
  "language_info": {
   "codemirror_mode": {
    "name": "ipython",
    "version": 3
   },
   "file_extension": ".py",
   "mimetype": "text/x-python",
   "name": "python",
   "nbconvert_exporter": "python",
   "pygments_lexer": "ipython3",
   "version": "3.9.12"
  }
 },
 "nbformat": 4,
 "nbformat_minor": 5
}
